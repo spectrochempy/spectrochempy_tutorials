{
  "cells": [
    {
      "cell_type": "markdown",
      "metadata": {
        "id": "poawrNtp9F0J"
      },
      "source": [
        "## <font color='green'>Tutorial on the installation on Colaboratory</font>\n",
        "\n",
        "In this notebook we want to demonstrate how to run spectrochempy on Colaboratory. For\n",
        " a demonstration of the usage of SpectroChemPy refer to our [tutorial pages](https://tutorials.spectrochempy.fr).\n"
      ]
    },
    {
      "cell_type": "markdown",
      "metadata": {
        "id": "0nCwMjll0mnt",
        "pycharm": {
          "name": "#%% md\n"
        }
      },
      "source": [
        "### SpectroChemPy installation\n",
        "\n",
        "**SpectroChemPy** is not pre-installed in Colab. It is therefore necessary to install it before using it.\n",
        "\n",
        "To do this, we execute the following shell command:"
      ]
    },
    {
      "cell_type": "code",
      "execution_count": null,
      "metadata": {
        "id": "nqn1d3KIQsDl",
        "pycharm": {
          "name": "#%%\n"
        }
      },
      "outputs": [],
      "source": [
        "!python -m pip install spectrochempy &>> output.log"
      ]
    },
    {
      "cell_type": "markdown",
      "metadata": {
        "id": "6JBhkXDxRU2Y"
      },
      "source": [
        "Note that the `!`, at the beginning of the command, means that it is not a python command but that it belongs to the shell (*i.e.,* the interface to the Linux operating system used by the Google Colab servers).\n",
        "\n",
        "To avoid having too many messages, we redirect the output to a log file (`output.log`).\n",
        "\n",
        "The whole installation process which requires the loading of several libraries not preinstalled by Colab takes less than 1 minute.\n"
      ]
    },
    {
      "cell_type": "markdown",
      "metadata": {
        "id": "jr26EpTDRj7C",
        "pycharm": {
          "name": "#%% md\n"
        }
      },
      "source": [
        "If you want to try our latest development version instead of the stable version, use the following command. Using the development version is recommended to take advantage of the latest improvements and bug fixes:"
      ]
    },
    {
      "cell_type": "code",
      "execution_count": null,
      "metadata": {
        "id": "Zg0c-xKb_hQD",
        "pycharm": {
          "name": "#%%\n"
        }
      },
      "outputs": [],
      "source": [
        "!python -m pip install spectrochempy[dev] &>> output.log"
      ]
    },
    {
      "cell_type": "markdown",
      "metadata": {
        "id": "hg44iACm2Ffd",
        "pycharm": {
          "name": "#%% md\n"
        }
      },
      "source": [
        "### Loading the SpectroChemPy API\n",
        "\n",
        "The recommended way of loading SpectroChemPy in the notebook namespace is as follows:"
      ]
    },
    {
      "cell_type": "code",
      "execution_count": null,
      "metadata": {
        "id": "a1_yv0dzH3bk",
        "pycharm": {
          "name": "#%%\n"
        }
      },
      "outputs": [],
      "source": [
        "import spectrochempy as scp"
      ]
    },
    {
      "cell_type": "markdown",
      "metadata": {
        "id": "ayLWe5pMdqqr",
        "pycharm": {
          "name": "#%% md\n"
        }
      },
      "source": [
        "### Importing experimental data\n",
        "\n",
        "Let's show a first example. In the following cell we read experimental data aquired on an IR spectrometer in the `OMNC (spg)` format and stored in our example repository on GitHub: [spectrochempy_data/testdata](https://github.com/spectrochempy/spectrochempy_data/tree/master/testdata).\n",
        "\n",
        "We simply specified the relative path with respect to the `testdata` folder, *i.e.,* `\"irdata/nh4y-activation.spg\"`."
      ]
    },
    {
      "cell_type": "code",
      "execution_count": null,
      "metadata": {
        "id": "cpZeUpPns2dx",
        "pycharm": {
          "name": "#%%\n"
        }
      },
      "outputs": [],
      "source": [
        "_ = scp.read(\"irdata/nh4y-activation.spg\")"
      ]
    },
    {
      "cell_type": "markdown",
      "metadata": {
        "id": "Tg0t6oVWuM_s",
        "pycharm": {
          "name": "#%% md\n"
        }
      },
      "source": [
        "It is worth to note that the data are downloaded from the remote repository and stored locall in the ``datadir`` default directory. As it is stored locally, if for some reason we need to download it again, it will be faster as no connection with the remote server need to be established again.\n",
        "\n",
        "The local path for the default directory is easily retrieved from the `preferences`:"
      ]
    },
    {
      "cell_type": "code",
      "execution_count": null,
      "metadata": {
        "pycharm": {
          "name": "#%%\n"
        },
        "id": "FaO5VWmzZAVy"
      },
      "outputs": [],
      "source": [
        "prefs = scp.preferences\n",
        "DATADIR = prefs.datadir\n",
        "print(DATADIR)"
      ]
    },
    {
      "cell_type": "markdown",
      "metadata": {
        "pycharm": {
          "name": "#%% md\n"
        },
        "id": "z-cfuM3zZAVz"
      },
      "source": [
        "This preference setting can be changed. For exemple, as the default directory\n",
        "will not allow keeping permanently our data (erased after closing the Colab\n",
        "session), it may be desirable to store our data in your Google Drive.\n",
        "\n",
        "This assumes that your personal Google Drive is already mounted, you should see the `drive` folder in the Files explorer. If it is not the case, mount it using:"
      ]
    },
    {
      "cell_type": "code",
      "execution_count": null,
      "metadata": {
        "id": "izw4YRsnagJ1",
        "pycharm": {
          "name": "#%%\n"
        }
      },
      "outputs": [],
      "source": [
        "from google.colab import drive\n",
        "drive.mount('/content/drive')"
      ]
    },
    {
      "cell_type": "markdown",
      "metadata": {
        "id": "CRPLLU76LXqO",
        "pycharm": {
          "name": "#%% md\n"
        }
      },
      "source": [
        "Now let's create a directory for our data in the `drive` and next, change the\n",
        "preferences settings to set this directory the default to load/save data."
      ]
    },
    {
      "cell_type": "code",
      "execution_count": null,
      "metadata": {
        "id": "QwjjarsOuLUG",
        "pycharm": {
          "name": "#%%\n"
        }
      },
      "outputs": [],
      "source": [
        "from pathlib import Path\n",
        "DATADIR = Path(\"/content/drive/MyDrive/MyData\")\n",
        "DATADIR.mkdir(exist_ok=True)\n",
        "prefs.datadir = DATADIR\n",
        "prefs.datadir"
      ]
    },
    {
      "cell_type": "markdown",
      "metadata": {
        "id": "tKQ4o0pOgo3r",
        "pycharm": {
          "name": "#%% md\n"
        }
      },
      "source": [
        "Now if we try to get data, SpectroChempy will look in this directory and if\n",
        "not found, the file will be downloaded and saved, e.g.,"
      ]
    },
    {
      "cell_type": "code",
      "execution_count": null,
      "metadata": {
        "id": "z7DUm-1Qa3lJ",
        "pycharm": {
          "name": "#%%\n"
        }
      },
      "outputs": [],
      "source": [
        "X = scp.read(\"irdata/nh4y-activation.spg\")"
      ]
    },
    {
      "cell_type": "markdown",
      "metadata": {
        "id": "_jTZRuLnbA7G",
        "pycharm": {
          "name": "#%% md\n"
        }
      },
      "source": [
        "If everything goes well, you should have this output for the next cell:\n",
        "\n",
        "```\n",
        "('nh4y-activation.spg', PosixPath('/content/drive/MyDrive/MyData/irdata'))\n",
        "```\n",
        "\n"
      ]
    },
    {
      "cell_type": "code",
      "execution_count": null,
      "metadata": {
        "pycharm": {
          "name": "#%%\n"
        },
        "id": "Sw0OkOsDZAV1"
      },
      "outputs": [],
      "source": [
        "X.filename, X.directory"
      ]
    }
  ],
  "metadata": {
    "colab": {
      "private_outputs": true,
      "provenance": []
    },
    "kernelspec": {
      "display_name": "Python 3 (ipykernel)",
      "language": "python",
      "name": "python3"
    },
    "language_info": {
      "codemirror_mode": {
        "name": "ipython",
        "version": 3
      },
      "file_extension": ".py",
      "mimetype": "text/x-python",
      "name": "python",
      "nbconvert_exporter": "python",
      "pygments_lexer": "ipython3",
      "version": "3.10.2"
    }
  },
  "nbformat": 4,
  "nbformat_minor": 0
}
